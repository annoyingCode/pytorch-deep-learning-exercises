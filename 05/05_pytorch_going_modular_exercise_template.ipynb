{
 "cells": [
  {
   "cell_type": "markdown",
   "metadata": {
    "colab_type": "text",
    "id": "view-in-github"
   },
   "source": [
    "<a href=\"https://colab.research.google.com/github/mrdbourke/pytorch-deep-learning/blob/main/extras/exercises/05_pytorch_going_modular_exercise_template.ipynb\" target=\"_parent\"><img src=\"https://colab.research.google.com/assets/colab-badge.svg\" alt=\"Open In Colab\"/></a>"
   ]
  },
  {
   "cell_type": "markdown",
   "metadata": {
    "id": "zNqPNlYylluR"
   },
   "source": [
    "# 05. PyTorch Going Modular Exercises\n",
    "\n",
    "Welcome to the 05. PyTorch Going Modular exercise template notebook.\n",
    "\n",
    "There are several questions in this notebook and it's your goal to answer them by writing Python and PyTorch code.\n",
    "\n",
    "> **Note:** There may be more than one solution to each of the exercises, don't worry too much about the *exact* right answer. Try to write some code that works first and then improve it if you can.\n",
    "\n",
    "## Resources and solutions\n",
    "\n",
    "* These exercises/solutions are based on [section 05. PyTorch Going Modular](https://www.learnpytorch.io/05_pytorch_going_modular/) of the Learn PyTorch for Deep Learning course by Zero to Mastery.\n",
    "\n",
    "**Solutions:** \n",
    "\n",
    "Try to complete the code below *before* looking at these.\n",
    "\n",
    "* See a live [walkthrough of the solutions (errors and all) on YouTube](https://youtu.be/ijgFhMK3pp4).\n",
    "* See an example [solutions notebook for these exercises on GitHub](https://github.com/mrdbourke/pytorch-deep-learning/blob/main/extras/solutions/05_pytorch_going_modular_exercise_solutions.ipynb)."
   ]
  },
  {
   "cell_type": "markdown",
   "metadata": {
    "id": "bicbWSrPmfTU"
   },
   "source": [
    "## 1. Turn the code to get the data (from section 1. Get Data) into a Python script, such as `get_data.py`.\n",
    "\n",
    "* When you run the script using `python get_data.py` it should check if the data already exists and skip downloading if it does.\n",
    "* If the data download is successful, you should be able to access the `pizza_steak_sushi` images from the `data` directory."
   ]
  },
  {
   "cell_type": "code",
   "execution_count": 10,
   "metadata": {
    "id": "r0BCn1XIYZ8c"
   },
   "outputs": [
    {
     "name": "stdout",
     "output_type": "stream",
     "text": [
      "Overwriting get_data.py\n"
     ]
    }
   ],
   "source": [
    "%%writefile get_data.py\n",
    "\n",
    "from pathlib import Path\n",
    "\n",
    "import os\n",
    "import requests\n",
    "import zipfile\n",
    "\n",
    "# Setup path to data folder\n",
    "data_path = Path(\"data/\")\n",
    "food_data_path = data_path / \"pizza_steak_sushi\"\n",
    "\n",
    "# Check if the food data already exists. If not, download it.\n",
    "if food_data_path.is_dir():\n",
    "    print(f\"{food_data_path} already exists. Downloading skipped!\")\n",
    "    exit(0)\n",
    "else:\n",
    "    print(f\"Did not find {food_data_path}. Creating one...\")\n",
    "    food_data_path.mkdir(parents=True, exist_ok=True)\n",
    "    with open(data_path / \"pizza_steak_sushi.zip\", \"wb\") as f:\n",
    "        print(\"Downloading food data...\")\n",
    "        request = requests.get(\"https://github.com/mrdbourke/pytorch-deep-learning/raw/main/data/pizza_steak_sushi.zip\")\n",
    "        f.write(request.content)\n",
    "    \n",
    "    with zipfile.ZipFile(data_path / \"pizza_steak_sushi.zip\", \"r\") as zip_ref:\n",
    "        print(\"Unzipping food data...\")\n",
    "        zip_ref.extractall(food_data_path)\n",
    "\n",
    "# Remove the zip file after downloading and extracting\n",
    "print(\"Removing zip file: pizza_steak_sushi.zip\")\n",
    "os.remove(data_path / \"pizza_steak_sushi.zip\")\n",
    "\n",
    "print(f\"Food data successfully downloaded and extracted to {food_data_path}\")"
   ]
  },
  {
   "cell_type": "code",
   "execution_count": 11,
   "metadata": {
    "id": "_LrUOIC-YOP9"
   },
   "outputs": [
    {
     "name": "stdout",
     "output_type": "stream",
     "text": [
      "data\\pizza_steak_sushi already exists. Downloading skipped!\n"
     ]
    }
   ],
   "source": [
    "# Example running of get_data.py\n",
    "!python get_data.py"
   ]
  },
  {
   "cell_type": "markdown",
   "metadata": {
    "id": "zjyn7LU3mvkR"
   },
   "source": [
    "## 2. Use [Python's `argparse` module](https://docs.python.org/3/library/argparse.html) to be able to send the `train.py` custom hyperparameter values for training procedures.\n",
    "* Add an argument flag for using a different:\n",
    "  * Training/testing directory\n",
    "  * Learning rate\n",
    "  * Batch size\n",
    "  * Number of epochs to train for\n",
    "  * Number of hidden units in the TinyVGG model\n",
    "    * Keep the default values for each of the above arguments as what they already are (as in notebook 05).\n",
    "* For example, you should be able to run something similar to the following line to train a TinyVGG model with a learning rate of 0.003 and a batch size of 64 for 20 epochs: `python train.py --learning_rate 0.003 batch_size 64 num_epochs 20`.\n",
    "* **Note:** Since `train.py` leverages the other scripts we created in section 05, such as, `model_builder.py`, `utils.py` and `engine.py`, you'll have to make sure they're available to use too. You can find these in the [`going_modular` folder on the course GitHub](https://github.com/mrdbourke/pytorch-deep-learning/tree/main/going_modular/going_modular). "
   ]
  },
  {
   "cell_type": "code",
   "execution_count": 5,
   "metadata": {
    "id": "MKNDUp45YaW-"
   },
   "outputs": [
    {
     "name": "stdout",
     "output_type": "stream",
     "text": [
      "Overwriting train.py\n"
     ]
    }
   ],
   "source": [
    "%%writefile train.py\n",
    "# YOUR CODE HERE\n",
    "\n",
    "\"\"\"\n",
    "Trains a PyTorch image classification model using device-agnostic code.\n",
    "\"\"\"\n",
    "\n",
    "import argparse\n",
    "import os\n",
    "import torch\n",
    "import data_setup, engine, model_builder, utils\n",
    "\n",
    "from torchvision import transforms\n",
    "\n",
    "# Initializing argument parser and adding command-line arguments\n",
    "parser = argparse.ArgumentParser(description=\"The programs takes in hyper-parameters from CLI and train and evaluate the TinyVGG model.\")\n",
    "parser.add_argument(\"--epochs\", default=5, type=int, help=\"Number of epochs to train the model for.\")\n",
    "parser.add_argument(\"--data\", default=\"./data\", type=str, help=\"Location where training and testing data is stored.\")\n",
    "parser.add_argument(\"--batch_size\", default=16, type=int, help=\"Batch size to train the model on for single iteration.\")\n",
    "parser.add_argument(\"--lr\", default=0.001, type=float, help=\"Learning rate for the optimizer.\")\n",
    "parser.add_argument(\"--num_filters\", default=10, type=int, help=\"Number of filters (kernels) in a single convolutional layer.\")\n",
    "args = parser.parse_args()\n",
    "data_base_dir = args.data\n",
    "\n",
    "if data_base_dir == \"./data\" or not os.path.isdir(data_base_dir):\n",
    "    print(\"Please specify the target dataset.\")\n",
    "    exit(0)\n",
    "\n",
    "# Setup hyperparameters\n",
    "NUM_EPOCHS = args.epochs\n",
    "BATCH_SIZE = args.batch_size\n",
    "HIDDEN_UNITS = args.num_filters\n",
    "LEARNING_RATE = args.lr\n",
    "\n",
    "# Setup directories\n",
    "train_dir = data_base_dir + \"/train\"\n",
    "test_dir = data_base_dir + \"/test\"\n",
    "\n",
    "# Setup target device\n",
    "device = \"cuda\" if torch.cuda.is_available() else \"cpu\"\n",
    "\n",
    "# Create transforms\n",
    "data_transform = transforms.Compose([\n",
    "  transforms.Resize((64, 64)),\n",
    "  transforms.ToTensor()\n",
    "])\n",
    "\n",
    "# Create DataLoaders with help from data_setup.py\n",
    "train_dataloader, test_dataloader, class_names = data_setup.create_dataloaders(\n",
    "    train_dir=train_dir,\n",
    "    test_dir=test_dir,\n",
    "    transform=data_transform,\n",
    "    batch_size=BATCH_SIZE\n",
    ")\n",
    "\n",
    "# Create model with help from model_builder.py\n",
    "model = model_builder.TinyVGG(\n",
    "    input_shape=3,\n",
    "    hidden_units=HIDDEN_UNITS,\n",
    "    output_shape=len(class_names)\n",
    ").to(device)\n",
    "\n",
    "# Set loss and optimizer\n",
    "loss_fn = torch.nn.CrossEntropyLoss()\n",
    "optimizer = torch.optim.Adam(model.parameters(),\n",
    "                             lr=LEARNING_RATE)\n",
    "\n",
    "# Start training with help from engine.py\n",
    "engine.train(model=model,\n",
    "             train_dataloader=train_dataloader,\n",
    "             test_dataloader=test_dataloader,\n",
    "             loss_fn=loss_fn,\n",
    "             optimizer=optimizer,\n",
    "             epochs=NUM_EPOCHS,\n",
    "             device=device)\n",
    "\n",
    "# Save the model with help from utils.py\n",
    "utils.save_model(model=model,\n",
    "                 target_dir=\"models\",\n",
    "                 model_name=\"05_going_modular_script_mode_tinyvgg_model.pth\")"
   ]
  },
  {
   "cell_type": "code",
   "execution_count": 7,
   "metadata": {
    "id": "LzaJl39lC40N"
   },
   "outputs": [
    {
     "name": "stdout",
     "output_type": "stream",
     "text": [
      "^C\n"
     ]
    }
   ],
   "source": [
    "# Example running of train.py\n",
    "!python train.py --epochs 20 --batch_size 32 --lr 0.003 --data \"data/pizza_steak_sushi\""
   ]
  },
  {
   "cell_type": "markdown",
   "metadata": {
    "id": "P2g6EEYvm-46"
   },
   "source": [
    "## 3. Create a Python script to predict (such as `predict.py`) on a target image given a file path with a saved model.\n",
    "\n",
    "* For example, you should be able to run the command `python predict.py some_image.jpeg` and have a trained PyTorch model predict on the image and return its prediction.\n",
    "* To see example prediction code, check out the [predicting on a custom image section in notebook 04](https://www.learnpytorch.io/04_pytorch_custom_datasets/#113-putting-custom-image-prediction-together-building-a-function). \n",
    "* You may also have to write code to load in a trained model."
   ]
  },
  {
   "cell_type": "code",
   "execution_count": 4,
   "metadata": {
    "id": "HU7W6VZfYawP"
   },
   "outputs": [
    {
     "name": "stdout",
     "output_type": "stream",
     "text": [
      "Overwriting predict.py\n"
     ]
    }
   ],
   "source": [
    "%%writefile predict.py\n",
    "\n",
    "# YOUR CODE HERE\n",
    "import model_builder\n",
    "import sys\n",
    "import torch\n",
    "import torchvision\n",
    "\n",
    "from torchvision import transforms\n",
    "\n",
    "if len(sys.argv) < 2:\n",
    "    print(\"Please an image location to run inference on.\")\n",
    "    exit(0)\n",
    "\n",
    "MODEL_PATH = \"./models/05_going_modular_script_mode_tinyvgg_model.pth\"\n",
    "CLASSES = ['pizza', 'steak', 'sushi']\n",
    "\n",
    "device = \"cuda\" if torch.cuda.is_available() else \"cpu\"\n",
    "\n",
    "# Create model with help from model_builder.py\n",
    "model = model_builder.TinyVGG(\n",
    "    input_shape=3,\n",
    "    hidden_units=10,\n",
    "    output_shape=3\n",
    ").to(device)\n",
    "\n",
    "# Load the state of the model (trained parameters)\n",
    "model.load_state_dict(torch.load(MODEL_PATH))\n",
    "model.eval()\n",
    "\n",
    "# Load in custom image and convert the tensor values to float32\n",
    "custom_image = torchvision.io.read_image(str(sys.argv[1])).type(torch.float32)\n",
    "\n",
    "# Divide the image pixel values by 255 to get them between [0, 1]\n",
    "custom_image = custom_image / 255. \n",
    "\n",
    "# Create transform pipleine to resize image\n",
    "custom_image_transform = transforms.Compose([\n",
    "    transforms.Resize((64, 64)),\n",
    "])\n",
    "\n",
    "# Transform target image\n",
    "custom_image_transformed = custom_image_transform(custom_image).unsqueeze(dim=0).to(device)\n",
    "\n",
    "with torch.inference_mode():\n",
    "    custom_image_pred = model(custom_image_transformed)\n",
    "    custom_image_pred_probs = torch.softmax(custom_image_pred, dim=1)\n",
    "    print(f\"Prediction probabilities: {custom_image_pred_probs}\")\n",
    "\n",
    "    # Convert prediction probabilities -> prediction labels\n",
    "    custom_image_pred_label = torch.argmax(custom_image_pred_probs, dim=1).cpu().item()\n",
    "    pred_label_class = CLASSES[custom_image_pred_label]\n",
    "    print(pred_label_class)\n"
   ]
  },
  {
   "cell_type": "code",
   "execution_count": 5,
   "metadata": {
    "id": "Zcvw9sitIn6r"
   },
   "outputs": [
    {
     "name": "stdout",
     "output_type": "stream",
     "text": [
      "Prediction probabilities: tensor([[0.9453, 0.0240, 0.0307]], device='cuda:0')\n",
      "pizza\n"
     ]
    }
   ],
   "source": [
    "# Example running of predict.py \n",
    "!python predict.py data/pizza_steak_sushi/test/sushi/175783.jpg"
   ]
  },
  {
   "cell_type": "code",
   "execution_count": null,
   "metadata": {},
   "outputs": [],
   "source": []
  }
 ],
 "metadata": {
  "accelerator": "GPU",
  "colab": {
   "authorship_tag": "ABX9TyNcX0JATB1YsaAFGNe0TGWq",
   "collapsed_sections": [],
   "include_colab_link": true,
   "name": "05_pytorch_going_modular_exercise_template.ipynb",
   "provenance": []
  },
  "kernelspec": {
   "display_name": "Python 3 (ipykernel)",
   "language": "python",
   "name": "python3"
  },
  "language_info": {
   "codemirror_mode": {
    "name": "ipython",
    "version": 3
   },
   "file_extension": ".py",
   "mimetype": "text/x-python",
   "name": "python",
   "nbconvert_exporter": "python",
   "pygments_lexer": "ipython3",
   "version": "3.11.8"
  }
 },
 "nbformat": 4,
 "nbformat_minor": 4
}
